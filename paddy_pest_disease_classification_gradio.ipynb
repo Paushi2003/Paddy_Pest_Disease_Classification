{
  "nbformat": 4,
  "nbformat_minor": 0,
  "metadata": {
    "colab": {
      "provenance": [],
      "authorship_tag": "ABX9TyOB7qwqxK78vj41wQV3Ip8w",
      "include_colab_link": true
    },
    "kernelspec": {
      "name": "python3",
      "display_name": "Python 3"
    },
    "language_info": {
      "name": "python"
    }
  },
  "cells": [
    {
      "cell_type": "markdown",
      "metadata": {
        "id": "view-in-github",
        "colab_type": "text"
      },
      "source": [
        "<a href=\"https://colab.research.google.com/github/Paushi2003/Paddy_Pest_Disease_Classification/blob/main/paddy_pest_disease_classification_gradio.ipynb\" target=\"_parent\"><img src=\"https://colab.research.google.com/assets/colab-badge.svg\" alt=\"Open In Colab\"/></a>"
      ]
    },
    {
      "cell_type": "code",
      "source": [
        "!pip install gradio"
      ],
      "metadata": {
        "id": "rK1xvzs2wGmw"
      },
      "execution_count": null,
      "outputs": []
    },
    {
      "cell_type": "code",
      "source": [
        "import gradio as gr\n",
        "import tensorflow as tf\n",
        "from tensorflow.keras.models import load_model\n",
        "from tensorflow.keras.preprocessing.image import load_img, img_to_array\n",
        "import numpy as np\n",
        "from PIL import Image\n",
        "\n",
        "model = load_model('model_extended.h5')\n",
        "\n",
        "def predict_image(image):\n",
        "    img_array = img_to_array(image)\n",
        "    img_array = img_array.reshape((1, 256, 256, 3))\n",
        "    img_array = img_array / 255.0\n",
        "    predictions = model.predict(img_array)\n",
        "    predicted_class_index = predictions.argmax()\n",
        "    class_labels = ['bacterial_leaf_blight', 'bacterial_leaf_streak', 'bacterial_panicle_blight','blast','brown_spot','dead_heart','downy_mildew','hispa','normal','tungro' ]  # Replace with your actual class labels\n",
        "    predicted_class_label = class_labels[predicted_class_index]\n",
        "    return predicted_class_label\n",
        "\n",
        "my_app = gr.Blocks()\n",
        "with my_app:\n",
        "  gr.Markdown(\"Statellite Image Segmentation Application UI with Gradio\")\n",
        "  with gr.Tabs():\n",
        "    with gr.TabItem(\"Select your image\"):\n",
        "      with gr.Row():\n",
        "        with gr.Column():\n",
        "            img_source = gr.Image(label=\"Please select source Image\", shape=(256, 256))\n",
        "            source_image_loader = gr.Button(\"Load above Image\")\n",
        "        with gr.Column():\n",
        "            output = gr.Textbox(label=\"Image Info\")\n",
        "    source_image_loader.click(predict_image,img_source,output)\n",
        "\n",
        "my_app.launch(debug=True)"
      ],
      "metadata": {
        "id": "Hn2oafZ1y60x"
      },
      "execution_count": null,
      "outputs": []
    },
    {
      "cell_type": "code",
      "source": [
        "my_app.close()"
      ],
      "metadata": {
        "id": "ab5CvaMn04ZE"
      },
      "execution_count": null,
      "outputs": []
    }
  ]
}